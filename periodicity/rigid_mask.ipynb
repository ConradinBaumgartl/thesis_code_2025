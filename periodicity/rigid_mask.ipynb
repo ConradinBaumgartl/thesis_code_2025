{
 "cells": [
  {
   "cell_type": "code",
   "execution_count": 1,
   "id": "ea02732e",
   "metadata": {},
   "outputs": [],
   "source": [
    "from Bio import SeqIO\n",
    "from Bio.Seq import Seq, MutableSeq\n",
    "import numpy as np; np.random.seed(1994)\n",
    "import pandas as pd\n",
    "import itertools\n",
    "import matplotlib.pyplot as plt\n",
    "import seaborn as sns"
   ]
  },
  {
   "cell_type": "code",
   "execution_count": 2,
   "id": "e474ce19",
   "metadata": {},
   "outputs": [],
   "source": [
    "def find_string_overlapping(query, target):\n",
    "    return([i for i in range(len(target)) if target[i:i+len(query)] == query])"
   ]
  },
  {
   "cell_type": "code",
   "execution_count": 3,
   "id": "2cdc7775",
   "metadata": {},
   "outputs": [],
   "source": [
    "def find_dinucleotide(sequence, dinucleotide):\n",
    "\n",
    "    nucleotide_code = {\n",
    "        \"Y\": [\"T\", \"C\"],\n",
    "        \"R\": [\"A\", \"G\"],\n",
    "        \"S\": [\"G\", \"C\"],\n",
    "        \"W\": [\"A\", \"T\"],\n",
    "        \"M\": [\"A\", \"C\"],\n",
    "        \"K\": [\"G\", \"T\"],\n",
    "        \"A\": [\"A\"],\n",
    "        \"G\": [\"G\"],\n",
    "        \"C\": [\"C\"],\n",
    "        \"T\": [\"T\"],\n",
    "        \"N\": [\"A\", \"G\", \"C\", \"T\"]\n",
    "    }\n",
    "\n",
    "    if not all([x in nucleotide_code for x in dinucleotide]):\n",
    "        raise Exception(\"Some nucleotides are weird and are not in my list bro\")\n",
    "        \n",
    "        \n",
    "    # Use itertools product to get all the combinations\n",
    "    l1 = nucleotide_code[dinucleotide[0]]\n",
    "    l2 = nucleotide_code[dinucleotide[1]]\n",
    "    combinations = [''.join(x) for x in itertools.product(l1, l2)]\n",
    "    \n",
    "    # find all combinations in the sequence\n",
    "    l = []\n",
    "    for query in combinations:\n",
    "        l.append(find_string_overlapping(query, sequence))\n",
    "    \n",
    "    # put them all in the same list and sort\n",
    "    coordinates = [y for x in l for y in x]\n",
    "    coordinates.sort()\n",
    "    return(coordinates)"
   ]
  },
  {
   "cell_type": "code",
   "execution_count": 4,
   "id": "139c438b",
   "metadata": {},
   "outputs": [],
   "source": [
    "def pw_distance(v1, v2, max_distance = 100):\n",
    "    return([abs(i-j) for i in v1 for j in v2 if abs(i-j)<=max_distance])"
   ]
  },
  {
   "cell_type": "code",
   "execution_count": 5,
   "id": "47f9e4c0",
   "metadata": {},
   "outputs": [],
   "source": [
    "def apply_mask(sequence, mask):\n",
    "\n",
    "    if not type(sequence) == Seq:\n",
    "        raise Exception(\"sequence must be a Biopython Seq object\")\n",
    "        \n",
    "    out_seq = MutableSeq(sequence)\n",
    "\n",
    "    for coord in mask:\n",
    "        out_seq[coord:coord+2] = mask[coord]\n",
    "\n",
    "    return(Seq(out_seq))"
   ]
  },
  {
   "cell_type": "code",
   "execution_count": 6,
   "id": "16a868b1",
   "metadata": {},
   "outputs": [],
   "source": [
    "def create_rigid_mask(dinucleotide, length, start=0, distance = 15):\n",
    "\n",
    "    nucleotide_code = {\n",
    "        \"Y\": [\"T\", \"C\"],\n",
    "        \"R\": [\"A\", \"G\"],\n",
    "        \"S\": [\"G\", \"C\"],\n",
    "        \"W\": [\"A\", \"T\"],\n",
    "        \"M\": [\"A\", \"C\"],\n",
    "        \"K\": [\"G\", \"T\"],\n",
    "        \"A\": [\"A\"],\n",
    "        \"G\": [\"G\"],\n",
    "        \"C\": [\"C\"],\n",
    "        \"T\": [\"T\"],\n",
    "        \"N\": [\"A\", \"G\", \"C\", \"T\"]\n",
    "    }\n",
    "    \n",
    "    out_dict = {}\n",
    "    \n",
    "    for i in range(start, length-start, distance):\n",
    "        out_dict[i] = MutableSeq(\"NN\")\n",
    "        for j, b in enumerate(dinucleotide):\n",
    "            out_dict[i][j] = np.random.choice(nucleotide_code[b])\n",
    "    \n",
    "    return out_dict"
   ]
  },
  {
   "cell_type": "code",
   "execution_count": 7,
   "id": "13a0a724",
   "metadata": {},
   "outputs": [],
   "source": [
    "def plot_YY_RR(sequence):\n",
    "\n",
    "    coord1 = find_dinucleotide(sequence, \"YY\")\n",
    "    coord2 = find_dinucleotide(sequence, \"RR\")\n",
    "\n",
    "    dist_df = pd.concat(\n",
    "        [pd.DataFrame({\n",
    "            \"anchor\": \"YY\",\n",
    "            \"dist_to\": \"YY\",\n",
    "            \"distance\": pw_distance(coord1, coord1)}),\n",
    "        pd.DataFrame({\n",
    "            \"anchor\": \"YY\",\n",
    "            \"dist_to\": \"RR\",\n",
    "            \"distance\": pw_distance(coord1, coord2)})]).reset_index(drop=True)\n",
    "\n",
    "    sns.histplot(\n",
    "        data=dist_df,\n",
    "        x=\"distance\",\n",
    "        hue=\"dist_to\",\n",
    "        stat=\"count\",\n",
    "        binwidth=1,\n",
    "        kde=True,\n",
    "        kde_kws = {\"bw_adjust\": 0.4},\n",
    "        element=\"step\"\n",
    "    )\n",
    "    plt.xlim(0, 50)"
   ]
  },
  {
   "cell_type": "markdown",
   "id": "2d30dc3a",
   "metadata": {},
   "source": [
    "# Read Sequences"
   ]
  },
  {
   "cell_type": "code",
   "execution_count": 8,
   "id": "e4ffc16f",
   "metadata": {},
   "outputs": [
    {
     "data": {
      "text/plain": [
       "2627"
      ]
     },
     "execution_count": 8,
     "metadata": {},
     "output_type": "execute_result"
    }
   ],
   "source": [
    "aav_seqs = {entry.description: entry.seq.upper() for entry in SeqIO.parse(\"../sequences/aav/AAV_serotypes.periodConstructs.fasta\", \"fasta\")}\n",
    "lambda_seq_complete = aav_seqs[\"lambda_4.8\"]\n",
    "lambda_fragments = lambda_seq_complete[1941:4568]\n",
    "test_seq = Seq(\".\"*len(lambda_fragments))\n",
    "len(test_seq)"
   ]
  },
  {
   "cell_type": "markdown",
   "id": "5867341c",
   "metadata": {},
   "source": [
    "# Create Masks"
   ]
  },
  {
   "cell_type": "code",
   "execution_count": 9,
   "id": "abe25eee",
   "metadata": {},
   "outputs": [],
   "source": [
    "YY_mask_rigid = create_rigid_mask(\"YY\", len(test_seq))\n",
    "RR_mask_rigid = create_rigid_mask(\"RR\", len(test_seq), start=7)"
   ]
  },
  {
   "cell_type": "code",
   "execution_count": 10,
   "id": "870312f1",
   "metadata": {},
   "outputs": [
    {
     "name": "stdout",
     "output_type": "stream",
     "text": [
      "TC.....GA......TC.....AA......TT.....GA......TT.....AG......TC.....AG......TT.....GG......CC.....AA......CC.....GA......CT.....GG......TT.....GG......CC.....AA......TC.....GG......TT.....GG......CC.....GG......TC.....AG......CT.....GG......CC.....AA......CT.....AA......TT.....GA......TC.....AA......TC.....AG......CC.....AA......CC.....GA......CT.....AA......TC.....GA......CC.....GA......CT.....GG......TT.....GG......CT.....GA......TT.....AG......CC.....AG......CC.....AG......TC.....GA......CT.....AG......CT.....GG......CT.....GA......TT.....AA......TT.....GG......TC.....AA......TC.....AA......TT.....AA......CC.....GG......TC.....GG......TC.....AA......TT.....AG......TC.....AA......TT.....GG......CT.....GA......TC.....AG......TC.....GG......CT.....AG......TC.....AA......CC.....GA......CC.....AG......CC.....AG......CC.....GA......CC.....GG......TT.....GA......TC.....GG......CT.....GG......CT.....GA......CC.....AG......TC.....GA......TC.....GG......TT.....GG......TC.....AA......TC.....GA......TT.....AG......CT.....GG......TT.....AA......CC.....GA......TC.....GA......TT.....GG......TT.....GG......TC.....GG......CC.....AG......TT.....GG......CT.....GA......CT.....GG......TC.....AA......TC.....AA......CC.....GA......CT.....GG......TT.....AA......TC.....GG......CT.....GG......TC.....AA......TC.....AG......CC.....GA......CT.....GA......TT.....AG......CC.....GG......CT.....AG......CT.....AG......CC.....GG......CC.....GA......CC.....GG......TC.....AG......CT.....AA......CC.....AA......CT.....AG......CT.....GG......TT.....AG......TC.....GA......CT.....AA......TT.....AG......CT.....AA......TT.....GA......TT.....GA......CT.....AA......CC.....GG......CT.....GA......TT.....AA......CC.....GG......TT.....GA......CT.....GG......TC.....AA......CC.....AA......TT.....GA......TC.....AG......TT.....GA......TT.....AG......TT.....AA......TT.....AA......TT.....AA......CC.....AG......CT.....AG......CT.....AG......CT.....GA......TT.....GA......TT.....GG......TC.....GA......TC.....AA......TC.....AG......CT.....GG......CC.....GG......CT.....GA......TC.....AG......CT.....GA......TC.....AA......TC.....AG......TT.....GA......TC.....GA......CT.....GA......TT.....AG......CC.....AG......TT.....GG......TT.....AA......TC.....GA......CC.....GA......TT.....GA......CT.....GG......CT.....GG......TC.....AA......TT.....AG......TC.....AG......CC.....GA......TT.....GA......CT.....GA......CC.....GG......CT.....AG......TC.....GG......CT.....AA......TC.....GA......TC.....AG......TC.....GG......CC.....GG......TT.....GG......CC.....AA......CT.....GA......TC.....GG......TC.....GA......CC.....GA......CC.....AA......CT.....GG......CC\n"
     ]
    }
   ],
   "source": [
    "both_masks = apply_mask(apply_mask(test_seq, YY_mask_rigid), RR_mask_rigid)\n",
    "print(both_masks)"
   ]
  },
  {
   "cell_type": "code",
   "execution_count": 11,
   "id": "6a2dc1fc",
   "metadata": {},
   "outputs": [
    {
     "data": {
      "text/plain": [
       "0.26722497145032353"
      ]
     },
     "execution_count": 11,
     "metadata": {},
     "output_type": "execute_result"
    }
   ],
   "source": [
    "1 - both_masks.count(\".\") / len(both_masks)"
   ]
  },
  {
   "cell_type": "markdown",
   "id": "8fa58e82",
   "metadata": {},
   "source": [
    "Here only 27% of the sequence is changed"
   ]
  },
  {
   "cell_type": "markdown",
   "id": "7f5d98b0",
   "metadata": {},
   "source": [
    "## Apply to lambda"
   ]
  },
  {
   "cell_type": "code",
   "execution_count": 12,
   "id": "cdfa0fa9",
   "metadata": {},
   "outputs": [
    {
     "name": "stdout",
     "output_type": "stream",
     "text": [
      "TCGTATCGATGAGAATCACGACAACACGTATTCCATCGACGCCGTTTAGCATAGGCCGGATCAAGAGAGCATCGTTTATAACGGGGCGCACCTTGACAACGAACACCGTGGCGAGGTGAACTGTGTCGGGCCGCCTTCGGTGGGGCACCTCCCCGCAAAAGTCACTCCAGACGGCGGGGATTATCAGGGGCTGGCCCGATGGGGCACACCTCAGGTGAGGAAGGGCTTGAGTGGCCTGCTCCGTCTGAACGTAACCTCGGACAACGGCAGTTAGCGGGAGGTCAGTCCGGCCAAGACGACTCAAACCAGATACCGCCTCACGAAACTGGCCCTGGGGGACTACAGCTTGACAAACCGGGCTCTAAATGAGTGGGGCCAGCAGGACGATCCCTCGTCGGGATCGTTTTGGATTGGCGCACCCTCAGCAGAGTCGAGTTTTGAGAGGACGCCCCGCTATAGTCAGATCCCCGCCAGGCCGCATCTTGCCGATTATGACTCGACGAGACAGTTCTAGTTCGGGTTCTCCTAAAAGGAGATTGCTTATATCAAACAGGTTTAAACCGGCACGCGTCATCTTAATACGGCTCTGTACAAGATAGCTTCCAGTAACAATATCCAACCGGGCCATGATCATTACGGTTATATTCGCAGTAAGAACACTTTTGGCAGATCGGCTCTCGTGAAGGCCGTTTGTCGGGGGAGCGACTATGCGGAAGGTTATCTGGATAGTTTCAATCGCAAGGGAACCGACTCCCATAGCGGCAATCAGCTGAAGGAAAACCTCGAGGAGACGGACCATAACAGCAGCAGCCTGGAGAGGTTTTCCCAAGAGGAGAAGGACCCCAGTGGTAAGTGTTATGCCGAGTGGGCTCTCAAAGGTGAGCACTCCAAAGGCGGCAACTATTATGACGCGGGCCTTGGCAGCAGCATTCAGGACGAGGAGGATCGCAAAGGGAGCCATTTTCTGGGTGCCGCTCATCGTAACGCATTTCTTGACGAGGCAAATTGGAATAGAACGCCCTTGTTTGGGGCGCATTGCAACAAGATATTCCTGAACGACGTGTTTCTGAAGGACCTGACTTCCCCCGGCATTACTTGCGGCGGCAATCCTCCGGCCGGTTCCCTCCCACCGAGCGGAAATTTGACCGGTAAAAACTCGGATGACAGTGGCTGTGTGGGTGCGAATCCCGGGAAGCTCAGTCATGTGAAGATAGCCCAAAACGATACGATCTACGGTGGGCTGAGTTCGGAAAAAATCGTTCGGGACGGTGTAAACTCGGCGGGCGCGGCTCTTCCGAACCAGCGTCAAAGCAGTGTGGACCGGCCGGAAGGTACCTGTACTGACACCGTTTCCGATAGCCATCCCCTTGATGGCCAGATCTTGGTGAGTCCGCTCTCGTTTAGCGGAAGCCAGCGTGGTGTCAGCCGCAGGGAAACGTACCCGATGGGTTATCTTCAAGTAAGGATGAACTGTGCGAAGATTTACCATGGCAAGGCGAACTAGGCGAGACAGGTCTTCTCCGGTATTGTTTACATGAGAGCGGGTCGGGGAGACGTGATCTTGACGAACACGCTTTCGTCCAGACGGCACTCGGCAAATATTCCTTCGTATGAGTTTGCTTGCGATGAGCAGGTCTTGGTGAATAAGAACCAGGCGGGGGGCATCTGCGTGGACTGAGTTTGTTACAAAGGTTCCCCCGGGGGCGGGCGTTTTATTGAAAAACACTGAGAGGGGAACGATCCGTAAAATGTGTACCGCCGTAACTGTCTTTGCCGCGATTGCGGTCACAGTAGCTCCGGTTCGTGCGAAAGGTGTTCATGGAGCGTTTATTGTGGGAAATTTTCTTGTGAAAACGGGTATTTTGCCAACGTTGTCCGGCGGAGATACCGCTGTGAGAGATCTGACTGGGATAGACGTGACTTACCGGAATGAGCTTACGGAGAGTGTGGTTGTGATGGCTTCCCTCGGGTTGACCGCGTTCAAAAAAAGCAGCATCGTGATAGCCGGGGCTGATACGGTTCACTCCGAGAGGGTGCGTGCTCGTTAGATGAGCGTCATGGCAGGACCGGCTTTACAGATCAGTATCCAGGTAAGTGCGTTCGCCATAGCCGGAGTTGCTCAGAGTCGGTTCTCCGGGAGTACAACTGATTAGAGTAAGATTGAAATAGCTCCCGCCTATATAGAAGAGATTACCACGGCCAGGGTTGAAAGAACAATGCTCCATACGACAGTGGCCTGGAGGACAGGTATTCAGATGAATCCGGCTGCGTCGGTCGTTGCTGATATGGCTTATGTCGGCTCAAGCAGTGTTGACTGAGGTACTGTCGGATTAGTCGTTGCCGTCGGGAATAAATTTTGATTGACCAGGTCTCACAGGATTATGACCGCCCGGGGGAACCCTTGGGCAGTTTTGTTCGGTGAGGATGGCACTAAAGAAATCAGGATCCCTGAGAGACGGCTCAGGAAAGCCGGTATCGAACTGGACCATTCCGCTGAGGGCCAGATTTAACAGGACCACGCCGGTGGAAAACACGCTGGGCTGAGAGAATTCGGATGGGGCCGGGTCTTACAGAATGGATCCGGAGTGAGGTCAGCCCAGTGAAATCCTGCTGGTTGGGGGTTTTCC\n"
     ]
    }
   ],
   "source": [
    "masked_lambda = apply_mask(apply_mask(lambda_fragments, YY_mask_rigid), RR_mask_rigid)\n",
    "print(masked_lambda)"
   ]
  },
  {
   "cell_type": "code",
   "execution_count": 17,
   "id": "7fb6b99d",
   "metadata": {},
   "outputs": [
    {
     "data": {
      "image/png": "[encoded data removed]",
      "text/plain": [
       "<Figure size 640x480 with 1 Axes>"
      ]
     },
     "metadata": {},
     "output_type": "display_data"
    }
   ],
   "source": [
    "plot_YY_RR(masked_lambda)\n",
    "plt.title(\"M3\")\n",
    "plt.savefig(\"../periodify/mask/raw_sequences/M3_YY.histogram.png\", dpi=100)"
   ]
  },
  {
   "cell_type": "code",
   "execution_count": 14,
   "id": "4a224799",
   "metadata": {},
   "outputs": [],
   "source": [
    "with open(\"../periodify/mask/raw_sequences/m3_lambda.fasta\", \"w\") as out:\n",
    "    out.write(\">m3_lambda\\n\")\n",
    "    out.write(str(masked_lambda) + \"\\n\")"
   ]
  },
  {
   "cell_type": "code",
   "execution_count": null,
   "id": "ec54cb95",
   "metadata": {},
   "outputs": [],
   "source": []
  }
 ],
 "metadata": {
  "kernelspec": {
   "display_name": "Python 3.9.5 ('base')",
   "language": "python",
   "name": "python395jvsc74a57bd02f836788e2c819c7985ccc77bc4c3aac109e9b17f1f6876feb0328e8becece82"
  },
  "language_info": {
   "codemirror_mode": {
    "name": "ipython",
    "version": 3
   },
   "file_extension": ".py",
   "mimetype": "text/x-python",
   "name": "python",
   "nbconvert_exporter": "python",
   "pygments_lexer": "ipython3",
   "version": "3.9.7"
  }
 },
 "nbformat": 4,
 "nbformat_minor": 5
}
