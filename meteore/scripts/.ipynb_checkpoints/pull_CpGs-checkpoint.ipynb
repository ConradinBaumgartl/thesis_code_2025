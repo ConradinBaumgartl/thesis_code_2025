{
 "cells": [
  {
   "cell_type": "code",
   "execution_count": 1,
   "id": "a2fcd194",
   "metadata": {},
   "outputs": [],
   "source": [
    "from Bio import SeqIO"
   ]
  },
  {
   "cell_type": "code",
   "execution_count": 9,
   "id": "f68e39e9",
   "metadata": {},
   "outputs": [],
   "source": [
    "aav_genomes = {}\n",
    "\n",
    "for entry in SeqIO.parse(\"../genomes/combined/combined.fasta\", \"fasta\"):\n",
    "    aav_genomes[entry.description] = entry.seq.upper()"
   ]
  },
  {
   "cell_type": "code",
   "execution_count": 12,
   "id": "e1744272",
   "metadata": {},
   "outputs": [],
   "source": [
    "aav_genomes_cpg = {}\n",
    "\n",
    "for chrom in aav_genomes:\n",
    "    \n",
    "    aav_genomes_cpg[chrom] = {\"chr\": [],\"start\": [], \"end\": [], \"strand\": []}\n",
    "    \n",
    "    sequence = aav_genomes[chrom]\n",
    "    \n",
    "    \n",
    "    for i in range(len(sequence)-1):\n",
    "        if sequence[i:i+2] == \"CG\":\n",
    "            aav_genomes_cpg[chrom][\"chr\"].append(chrom)\n",
    "            aav_genomes_cpg[chrom][\"start\"].append(i)\n",
    "            aav_genomes_cpg[chrom][\"end\"].append(i+1)\n",
    "            aav_genomes_cpg[chrom][\"strand\"].append(\"+\")\n",
    "            \n",
    "            ## also add the one on the negative strand\n",
    "            aav_genomes_cpg[chrom][\"chr\"].append(chrom)\n",
    "            aav_genomes_cpg[chrom][\"start\"].append(i+1)\n",
    "            aav_genomes_cpg[chrom][\"end\"].append(i+2)\n",
    "            aav_genomes_cpg[chrom][\"strand\"].append(\"-\")"
   ]
  },
  {
   "cell_type": "markdown",
   "id": "31cf897b",
   "metadata": {},
   "source": [
    "# write the CpGs in a bed"
   ]
  },
  {
   "cell_type": "code",
   "execution_count": 16,
   "id": "d2928a59",
   "metadata": {},
   "outputs": [],
   "source": [
    "with open(\"combined_cpg.bed\", \"w\") as out:\n",
    "    for chrom in aav_genomes_cpg:\n",
    "        for i in range(len(aav_genomes_cpg[chrom][\"chr\"])):\n",
    "            line = \"{}\\t{}\\t{}\\n\".format(aav_genomes_cpg[chrom][\"chr\"][i], aav_genomes_cpg[chrom][\"start\"][i], aav_genomes_cpg[chrom][\"end\"][i])\n",
    "            out.write(line)"
   ]
  },
  {
   "cell_type": "code",
   "execution_count": null,
   "id": "41fcf919",
   "metadata": {},
   "outputs": [],
   "source": []
  }
 ],
 "metadata": {
  "kernelspec": {
   "display_name": "Python 3.9.5 ('base')",
   "language": "python",
   "name": "python395jvsc74a57bd02f836788e2c819c7985ccc77bc4c3aac109e9b17f1f6876feb0328e8becece82"
  },
  "language_info": {
   "codemirror_mode": {
    "name": "ipython",
    "version": 3
   },
   "file_extension": ".py",
   "mimetype": "text/x-python",
   "name": "python",
   "nbconvert_exporter": "python",
   "pygments_lexer": "ipython3",
   "version": "3.9.7"
  }
 },
 "nbformat": 4,
 "nbformat_minor": 5
}
